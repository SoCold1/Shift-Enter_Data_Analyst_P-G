{
  "nbformat": 4,
  "nbformat_minor": 0,
  "metadata": {
    "colab": {
      "name": "P&G_Oral-B.ipynb",
      "provenance": [],
      "collapsed_sections": []
    },
    "kernelspec": {
      "name": "python3",
      "display_name": "Python 3"
    },
    "language_info": {
      "name": "python"
    },
    "accelerator": "GPU"
  },
  "cells": [
    {
      "cell_type": "markdown",
      "metadata": {
        "id": "zI7qk9y74mFk"
      },
      "source": [
        "# Задание 1. Проверка данных на полноту"
      ]
    },
    {
      "cell_type": "code",
      "metadata": {
        "colab": {
          "base_uri": "https://localhost:8080/"
        },
        "id": "jm88K62AiE-t",
        "outputId": "01730ff7-d45f-4f21-8d9b-0044db4053ee"
      },
      "source": [
        "!pip install efficient_apriori"
      ],
      "execution_count": 2,
      "outputs": [
        {
          "output_type": "stream",
          "text": [
            "Collecting efficient_apriori\n",
            "  Downloading https://files.pythonhosted.org/packages/5a/c6/ecdf3a32d23cada466634c649cf4f50fefe76f56eae53ecceff688b306be/efficient_apriori-1.1.1-py3-none-any.whl\n",
            "Installing collected packages: efficient-apriori\n",
            "Successfully installed efficient-apriori-1.1.1\n"
          ],
          "name": "stdout"
        }
      ]
    },
    {
      "cell_type": "code",
      "metadata": {
        "id": "250AMIEL0m4O"
      },
      "source": [
        "import pandas as pd\n",
        "import numpy as np\n",
        "import matplotlib.pyplot as plt\n",
        "from efficient_apriori import apriori"
      ],
      "execution_count": 3,
      "outputs": []
    },
    {
      "cell_type": "code",
      "metadata": {
        "colab": {
          "base_uri": "https://localhost:8080/"
        },
        "id": "Psyo9dVaz-VX",
        "outputId": "df1d701f-225d-412c-957d-7fed3417641d"
      },
      "source": [
        "df = pd.read_csv('Case Data.csv', sep=\",\")\n",
        "print(df)"
      ],
      "execution_count": 4,
      "outputs": [
        {
          "output_type": "stream",
          "text": [
            "                                ﻿id чека      Дата и время  ...   Сумма Кэшбэк\n",
            "0       0000a622f9c8f1821ca549fbcfd47405  21.12.2019 15:15  ...   126.4    NaN\n",
            "1       0000a622f9c8f1821ca549fbcfd47405  21.12.2019 15:15  ...  1549.0  154.9\n",
            "2       0000a622f9c8f1821ca549fbcfd47405  21.12.2019 15:15  ...   135.2    NaN\n",
            "3       0000a622f9c8f1821ca549fbcfd47405  21.12.2019 15:15  ...    31.2    NaN\n",
            "4       0000a622f9c8f1821ca549fbcfd47405  21.12.2019 15:15  ...     4.9    NaN\n",
            "...                                  ...               ...  ...     ...    ...\n",
            "309702  512a6614980d409a7283410f797fdc3d  09.11.2019 14:21  ...  1071.2    NaN\n",
            "309703  512a6614980d409a7283410f797fdc3d  09.11.2019 14:21  ...   694.4    NaN\n",
            "309704  512a6614980d409a7283410f797fdc3d  09.11.2019 14:21  ...  2085.0    NaN\n",
            "309705  512a6614980d409a7283410f797fdc3d  09.11.2019 14:21  ...  2085.0    NaN\n",
            "309706  512a6614980d409a7283410f797fdc3d  09.11.2019 14:21  ...   695.0    NaN\n",
            "\n",
            "[309707 rows x 11 columns]\n"
          ],
          "name": "stdout"
        }
      ]
    },
    {
      "cell_type": "code",
      "metadata": {
        "colab": {
          "base_uri": "https://localhost:8080/"
        },
        "id": "PRKOUopE0uBn",
        "outputId": "259d39a3-1a4e-4de0-c6c3-fa8988a3b2a6"
      },
      "source": [
        "df.columns"
      ],
      "execution_count": 5,
      "outputs": [
        {
          "output_type": "execute_result",
          "data": {
            "text/plain": [
              "Index(['﻿id чека', 'Дата и время', 'ИНН', 'IDПользователя', 'Товар', 'Бренд',\n",
              "       'Теги', 'Цена', 'Кол-во', 'Сумма', 'Кэшбэк'],\n",
              "      dtype='object')"
            ]
          },
          "metadata": {
            "tags": []
          },
          "execution_count": 5
        }
      ]
    },
    {
      "cell_type": "code",
      "metadata": {
        "colab": {
          "base_uri": "https://localhost:8080/"
        },
        "id": "7dHrwr6l3BgQ",
        "outputId": "9da7029d-59aa-4064-b7ce-b32ddb4f4932"
      },
      "source": [
        "df.shape"
      ],
      "execution_count": 6,
      "outputs": [
        {
          "output_type": "execute_result",
          "data": {
            "text/plain": [
              "(309707, 11)"
            ]
          },
          "metadata": {
            "tags": []
          },
          "execution_count": 6
        }
      ]
    },
    {
      "cell_type": "code",
      "metadata": {
        "colab": {
          "base_uri": "https://localhost:8080/"
        },
        "id": "InYV_y8c4hEU",
        "outputId": "1f65ed82-2063-45de-aaef-191fe44da432"
      },
      "source": [
        "df.isna().sum()\n",
        "# больше всего пропусков - 'Кэшбэк', 'Бренд', 'Теги'"
      ],
      "execution_count": 7,
      "outputs": [
        {
          "output_type": "execute_result",
          "data": {
            "text/plain": [
              "﻿id чека               0\n",
              "Дата и время           0\n",
              "ИНН                    0\n",
              "IDПользователя         0\n",
              "Товар                  0\n",
              "Бренд             178495\n",
              "Теги              128391\n",
              "Цена                  52\n",
              "Кол-во                52\n",
              "Сумма                 52\n",
              "Кэшбэк            253552\n",
              "dtype: int64"
            ]
          },
          "metadata": {
            "tags": []
          },
          "execution_count": 7
        }
      ]
    },
    {
      "cell_type": "code",
      "metadata": {
        "colab": {
          "base_uri": "https://localhost:8080/"
        },
        "id": "XIEzI5Xg447B",
        "outputId": "0f972aa1-08b3-470c-a2c0-ee43e78c4a3c"
      },
      "source": [
        "# считает все NaN'ы\n",
        "df.isna().any(axis=1).sum()"
      ],
      "execution_count": 8,
      "outputs": [
        {
          "output_type": "execute_result",
          "data": {
            "text/plain": [
              "259220"
            ]
          },
          "metadata": {
            "tags": []
          },
          "execution_count": 8
        }
      ]
    },
    {
      "cell_type": "code",
      "metadata": {
        "id": "zMwdsG-u5iFU"
      },
      "source": [
        "# считатет строки с NaN \n",
        "rows_nan = df[df.isna().any(axis=1)].shape[0]"
      ],
      "execution_count": 9,
      "outputs": []
    },
    {
      "cell_type": "code",
      "metadata": {
        "colab": {
          "base_uri": "https://localhost:8080/"
        },
        "id": "afJVNT806Uip",
        "outputId": "bdc9d30d-d849-429b-fa9f-b85f94028b8a"
      },
      "source": [
        "# вручную посчитаем процент строк с пропущенными значениями\n",
        "print(str(rows_nan/df.shape[0] * 100) + '%')"
      ],
      "execution_count": 10,
      "outputs": [
        {
          "output_type": "stream",
          "text": [
            "83.69846338636194%\n"
          ],
          "name": "stdout"
        }
      ]
    },
    {
      "cell_type": "markdown",
      "metadata": {
        "id": "Y8vL0aH2FiuI"
      },
      "source": [
        "# Задание 2. Поиск ассоциативных правил"
      ]
    },
    {
      "cell_type": "code",
      "metadata": {
        "colab": {
          "base_uri": "https://localhost:8080/"
        },
        "id": "A-BqokJmIYVb",
        "outputId": "7235a37e-8512-426d-b253-299f08cc4d18"
      },
      "source": [
        "# Заполняем NaN-значения\n",
        "cols = ['Бренд', 'Теги', 'Цена', 'Кол-во', 'Сумма', 'Кэшбэк']\n",
        "df[cols] = df[cols].fillna(df.mode().iloc[0])\n",
        "# Группируем\n",
        "df2 = df.groupby('﻿id чека')[\"Теги\"].unique()\n",
        "df3 = list(map(tuple,df2))\n",
        "association_rules = apriori(df3, min_support=0.007,\n",
        "                            min_confidence=0.5) #0.0045(0.0035)\n",
        "print(association_rules[1]) # печатаем сами правила\n",
        "print(association_rules[0])\n",
        "print(len(association_rules))\n",
        "\n",
        "for item in association_rules:\n",
        "    pair = item[1]\n",
        "    print(pair) # lift, support, confidence для одного правила"
      ],
      "execution_count": 11,
      "outputs": [
        {
          "output_type": "stream",
          "text": [
            "[{личная гигиена; красота и здоровье; прокладки} -> {упаковка; пакеты; прочее}, {прокладки; личная гигиена; красота и здоровье} -> {упаковка; пакеты; прочее}, {красота и здоровье; гигиена волос; шампунь для волос} -> {упаковка; пакеты; прочее}, {красота и здоровье; дезодорант/антиперсперант; личная гигиена} -> {упаковка; пакеты; прочее}, {продукты; банан; фрукты; овощи/фрукты/ягоды} -> {упаковка; пакеты; прочее}, {бакалея; сахар; продукты} -> {упаковка; пакеты; прочее}, {красота и здоровье; прокладки; личная гигиена} -> {упаковка; пакеты; прочее}, {красота и здоровье; личная гигиена; прокладки} -> {упаковка; пакеты; прочее}, {уход за полостью рта; красота и здоровье; зубная паста} -> {упаковка; пакеты; прочее}, {дезодорант/антиперсперант; личная гигиена; красота и здоровье} -> {упаковка; пакеты; прочее}, {красота и здоровье; шампунь для волос; гигиена волос} -> {упаковка; пакеты; прочее}, {хлеб и сладости; хлеб; продукты} -> {упаковка; пакеты; прочее}, {уход за полостью рта; зубная паста; красота и здоровье} -> {упаковка; пакеты; прочее}, {личная гигиена; дезодорант/антиперсперант; красота и здоровье} -> {упаковка; пакеты; прочее}, {личная гигиена; прокладки; красота и здоровье} -> {упаковка; пакеты; прочее}, {прочее; упаковка; пакеты} -> {упаковка; пакеты; прочее}, {шампунь для волос; гигиена волос; красота и здоровье} -> {упаковка; пакеты; прочее}, {пакеты; прочее; упаковка} -> {упаковка; пакеты; прочее}, {зубная паста; уход за полостью рта; красота и здоровье} -> {упаковка; пакеты; прочее}, {личная гигиена; красота и здоровье; дезодорант/антиперсперант} -> {упаковка; пакеты; прочее}, {прокладки; красота и здоровье; личная гигиена} -> {упаковка; пакеты; прочее}, {бакалея; продукты; макароны} -> {упаковка; пакеты; прочее}, {бумага/салфетки; салфетки; хозяйственные товары} -> {упаковка; пакеты; прочее}, {красота и здоровье; личная гигиена; дезодорант/антиперсперант} -> {упаковка; пакеты; прочее}, {продукты; макароны; бакалея} -> {упаковка; пакеты; прочее}, {хозяйственные товары; салфетки; бумага/салфетки} -> {упаковка; пакеты; прочее}, {детское питание; пюре детское} -> {упаковка; пакеты; прочее}, {пюре детское; детское питание} -> {упаковка; пакеты; прочее}, {шампунь для волос; красота и здоровье; гигиена волос} -> {упаковка; пакеты; прочее}, {кондиционер для белья; хозяйственные товары; уход за бельем} -> {упаковка; пакеты; прочее}, {туалетная бумага; бумага/салфетки; хозяйственные товары} -> {упаковка; пакеты; прочее}, {прочее; лояльность} -> {упаковка; пакеты; прочее}, {огурцы; овощи/фрукты/ягоды; продукты; овощи} -> {упаковка; пакеты; прочее}, {пакеты; упаковка; прочее} -> {упаковка; пакеты; прочее}, {гигиена волос; красота и здоровье; шампунь для волос} -> {упаковка; пакеты; прочее}, {продукты; мандарины; фрукты; овощи/фрукты/ягоды} -> {упаковка; пакеты; прочее}, {красота и здоровье; зубная паста; уход за полостью рта} -> {упаковка; пакеты; прочее}, {упаковка; прочее; пакеты} -> {упаковка; пакеты; прочее}, {красота и здоровье; уход за полостью рта; зубная паста} -> {упаковка; пакеты; прочее}, {кондиционер для белья; уход за бельем; хозяйственные товары} -> {упаковка; пакеты; прочее}, {уход за бельем; кондиционер для белья; хозяйственные товары} -> {упаковка; пакеты; прочее}, {салфетки; бумага/салфетки; хозяйственные товары} -> {упаковка; пакеты; прочее}, {дезодорант/антиперсперант; красота и здоровье; личная гигиена} -> {упаковка; пакеты; прочее}, {зубная паста; красота и здоровье; уход за полостью рта} -> {упаковка; пакеты; прочее}, {фрукты; овощи/фрукты/ягоды; продукты; банан} -> {упаковка; пакеты; прочее}, {гигиена волос; шампунь для волос; красота и здоровье} -> {упаковка; пакеты; прочее}, {макароны; продукты; бакалея} -> {упаковка; пакеты; прочее}, {продукты; хлеб и сладости; хлеб} -> {упаковка; пакеты; прочее}]\n",
            "{1: {('личная гигиена; красота и здоровье; прокладки',): 2410, ('упаковка; пакеты; прочее',): 30585, ('прокладки; личная гигиена; красота и здоровье',): 2484, ('уход за полостью рта; зубная паста; красота и здоровье',): 760, ('красота и здоровье; гигиена волос; шампунь для волос',): 1043, ('красота и здоровье; дезодорант/антиперсперант; личная гигиена',): 521, ('продукты; банан; фрукты; овощи/фрукты/ягоды',): 699, ('дезодорант/антиперсперант; личная гигиена; красота и здоровье',): 504, ('; ',): 550, ('красота и здоровье; личная гигиена; дезодорант/антиперсперант',): 707, ('бакалея; сахар; продукты',): 400, ('красота и здоровье; прокладки; личная гигиена',): 1281, ('красота и здоровье; зубная паста; уход за полостью рта',): 639, ('кондиционер для белья; хозяйственные товары; уход за бельем',): 1109, ('красота и здоровье; личная гигиена; прокладки',): 1261, ('уход за полостью рта; красота и здоровье; зубная паста',): 613, ('хлеб и сладости; хлеб; продукты',): 344, ('красота и здоровье; шампунь для волос; гигиена волос',): 1328, ('личная гигиена; дезодорант/антиперсперант; красота и здоровье',): 431, ('личная гигиена; прокладки; красота и здоровье',): 1977, ('шампунь для волос; гигиена волос; красота и здоровье',): 987, ('прочее; упаковка; пакеты',): 1510, ('гель для душа; личная гигиена; красота и здоровье',): 354, ('пакеты; прочее; упаковка',): 1668, ('уход за бельем; кондиционер для белья; хозяйственные товары',): 546, ('прокладки; красота и здоровье; личная гигиена',): 1960, ('зубная паста; уход за полостью рта; красота и здоровье',): 533, ('личная гигиена; красота и здоровье; дезодорант/антиперсперант',): 554, ('продукты; макароны; бакалея',): 337, ('бакалея; продукты; макароны',): 361, ('хозяйственные товары; салфетки; бумага/салфетки',): 348, ('бумага/салфетки; салфетки; хозяйственные товары',): 454, ('детское питание; пюре детское',): 486, ('шампунь для волос; красота и здоровье; гигиена волос',): 1016, ('пюре детское; детское питание',): 477, ('туалетная бумага; бумага/салфетки; хозяйственные товары',): 416, ('зубная паста; красота и здоровье; уход за полостью рта',): 630, ('прочее; лояльность',): 1437, ('огурцы; овощи/фрукты/ягоды; продукты; овощи',): 414, ('пакеты; упаковка; прочее',): 1455, ('неззащ',): 612, ('гигиена волос; красота и здоровье; шампунь для волос',): 833, ('продукты; мандарины; фрукты; овощи/фрукты/ягоды',): 516, ('упаковка; прочее; пакеты',): 408, ('кондитерка',): 325, ('хозяйственные товары; кондиционер для белья; уход за бельем',): 325, ('красота и здоровье; уход за полостью рта; зубная паста',): 614, ('кондиционер для белья; уход за бельем; хозяйственные товары',): 528, ('салфетки; бумага/салфетки; хозяйственные товары',): 488, ('личная гигиена; ежедневные; красота и здоровье; прокладки',): 342, ('дезодорант/антиперсперант; красота и здоровье; личная гигиена',): 531, ('фрукты; овощи/фрукты/ягоды; продукты; банан',): 360, ('красота и здоровье; бальзам для волос; гигиена волос',): 332, ('гигиена волос; шампунь для волос; красота и здоровье',): 910, ('хозяйственные товары; уход за бельем; кондиционер для белья',): 380, ('макароны; продукты; бакалея',): 349, ('табачные изделия; сигареты',): 319, ('продукты; хлеб и сладости; хлеб',): 338}, 2: {('личная гигиена; красота и здоровье; прокладки', 'упаковка; пакеты; прочее'): 1832, ('прокладки; личная гигиена; красота и здоровье', 'упаковка; пакеты; прочее'): 1873, ('красота и здоровье; гигиена волос; шампунь для волос', 'упаковка; пакеты; прочее'): 822, ('красота и здоровье; дезодорант/антиперсперант; личная гигиена', 'упаковка; пакеты; прочее'): 402, ('продукты; банан; фрукты; овощи/фрукты/ягоды', 'упаковка; пакеты; прочее'): 674, ('бакалея; сахар; продукты', 'упаковка; пакеты; прочее'): 390, ('красота и здоровье; прокладки; личная гигиена', 'упаковка; пакеты; прочее'): 1019, ('красота и здоровье; личная гигиена; прокладки', 'упаковка; пакеты; прочее'): 994, ('упаковка; пакеты; прочее', 'уход за полостью рта; красота и здоровье; зубная паста'): 496, ('дезодорант/антиперсперант; личная гигиена; красота и здоровье', 'упаковка; пакеты; прочее'): 390, ('красота и здоровье; шампунь для волос; гигиена волос', 'упаковка; пакеты; прочее'): 999, ('упаковка; пакеты; прочее', 'хлеб и сладости; хлеб; продукты'): 325, ('упаковка; пакеты; прочее', 'уход за полостью рта; зубная паста; красота и здоровье'): 602, ('личная гигиена; дезодорант/антиперсперант; красота и здоровье', 'упаковка; пакеты; прочее'): 349, ('личная гигиена; прокладки; красота и здоровье', 'упаковка; пакеты; прочее'): 1466, ('прочее; упаковка; пакеты', 'упаковка; пакеты; прочее'): 1323, ('упаковка; пакеты; прочее', 'шампунь для волос; гигиена волос; красота и здоровье'): 763, ('пакеты; прочее; упаковка', 'упаковка; пакеты; прочее'): 1479, ('зубная паста; уход за полостью рта; красота и здоровье', 'упаковка; пакеты; прочее'): 464, ('личная гигиена; красота и здоровье; дезодорант/антиперсперант', 'упаковка; пакеты; прочее'): 424, ('прокладки; красота и здоровье; личная гигиена', 'упаковка; пакеты; прочее'): 1514, ('бакалея; продукты; макароны', 'упаковка; пакеты; прочее'): 357, ('бумага/салфетки; салфетки; хозяйственные товары', 'упаковка; пакеты; прочее'): 414, ('красота и здоровье; личная гигиена; дезодорант/антиперсперант', 'упаковка; пакеты; прочее'): 515, ('продукты; макароны; бакалея', 'упаковка; пакеты; прочее'): 331, ('упаковка; пакеты; прочее', 'хозяйственные товары; салфетки; бумага/салфетки'): 330, ('детское питание; пюре детское', 'упаковка; пакеты; прочее'): 459, ('пюре детское; детское питание', 'упаковка; пакеты; прочее'): 451, ('упаковка; пакеты; прочее', 'шампунь для волос; красота и здоровье; гигиена волос'): 821, ('кондиционер для белья; хозяйственные товары; уход за бельем', 'упаковка; пакеты; прочее'): 832, ('туалетная бумага; бумага/салфетки; хозяйственные товары', 'упаковка; пакеты; прочее'): 364, ('прочее; лояльность', 'упаковка; пакеты; прочее'): 1178, ('огурцы; овощи/фрукты/ягоды; продукты; овощи', 'упаковка; пакеты; прочее'): 406, ('пакеты; упаковка; прочее', 'упаковка; пакеты; прочее'): 1342, ('гигиена волос; красота и здоровье; шампунь для волос', 'упаковка; пакеты; прочее'): 641, ('продукты; мандарины; фрукты; овощи/фрукты/ягоды', 'упаковка; пакеты; прочее'): 497, ('красота и здоровье; зубная паста; уход за полостью рта', 'упаковка; пакеты; прочее'): 539, ('упаковка; пакеты; прочее', 'упаковка; прочее; пакеты'): 382, ('красота и здоровье; уход за полостью рта; зубная паста', 'упаковка; пакеты; прочее'): 512, ('кондиционер для белья; уход за бельем; хозяйственные товары', 'упаковка; пакеты; прочее'): 426, ('упаковка; пакеты; прочее', 'уход за бельем; кондиционер для белья; хозяйственные товары'): 391, ('салфетки; бумага/салфетки; хозяйственные товары', 'упаковка; пакеты; прочее'): 450, ('дезодорант/антиперсперант; красота и здоровье; личная гигиена', 'упаковка; пакеты; прочее'): 387, ('зубная паста; красота и здоровье; уход за полостью рта', 'упаковка; пакеты; прочее'): 518, ('упаковка; пакеты; прочее', 'фрукты; овощи/фрукты/ягоды; продукты; банан'): 345, ('гигиена волос; шампунь для волос; красота и здоровье', 'упаковка; пакеты; прочее'): 734, ('макароны; продукты; бакалея', 'упаковка; пакеты; прочее'): 340, ('продукты; хлеб и сладости; хлеб', 'упаковка; пакеты; прочее'): 319}}\n",
            "2\n",
            "{('личная гигиена; красота и здоровье; прокладки',): 2410, ('упаковка; пакеты; прочее',): 30585, ('прокладки; личная гигиена; красота и здоровье',): 2484, ('уход за полостью рта; зубная паста; красота и здоровье',): 760, ('красота и здоровье; гигиена волос; шампунь для волос',): 1043, ('красота и здоровье; дезодорант/антиперсперант; личная гигиена',): 521, ('продукты; банан; фрукты; овощи/фрукты/ягоды',): 699, ('дезодорант/антиперсперант; личная гигиена; красота и здоровье',): 504, ('; ',): 550, ('красота и здоровье; личная гигиена; дезодорант/антиперсперант',): 707, ('бакалея; сахар; продукты',): 400, ('красота и здоровье; прокладки; личная гигиена',): 1281, ('красота и здоровье; зубная паста; уход за полостью рта',): 639, ('кондиционер для белья; хозяйственные товары; уход за бельем',): 1109, ('красота и здоровье; личная гигиена; прокладки',): 1261, ('уход за полостью рта; красота и здоровье; зубная паста',): 613, ('хлеб и сладости; хлеб; продукты',): 344, ('красота и здоровье; шампунь для волос; гигиена волос',): 1328, ('личная гигиена; дезодорант/антиперсперант; красота и здоровье',): 431, ('личная гигиена; прокладки; красота и здоровье',): 1977, ('шампунь для волос; гигиена волос; красота и здоровье',): 987, ('прочее; упаковка; пакеты',): 1510, ('гель для душа; личная гигиена; красота и здоровье',): 354, ('пакеты; прочее; упаковка',): 1668, ('уход за бельем; кондиционер для белья; хозяйственные товары',): 546, ('прокладки; красота и здоровье; личная гигиена',): 1960, ('зубная паста; уход за полостью рта; красота и здоровье',): 533, ('личная гигиена; красота и здоровье; дезодорант/антиперсперант',): 554, ('продукты; макароны; бакалея',): 337, ('бакалея; продукты; макароны',): 361, ('хозяйственные товары; салфетки; бумага/салфетки',): 348, ('бумага/салфетки; салфетки; хозяйственные товары',): 454, ('детское питание; пюре детское',): 486, ('шампунь для волос; красота и здоровье; гигиена волос',): 1016, ('пюре детское; детское питание',): 477, ('туалетная бумага; бумага/салфетки; хозяйственные товары',): 416, ('зубная паста; красота и здоровье; уход за полостью рта',): 630, ('прочее; лояльность',): 1437, ('огурцы; овощи/фрукты/ягоды; продукты; овощи',): 414, ('пакеты; упаковка; прочее',): 1455, ('неззащ',): 612, ('гигиена волос; красота и здоровье; шампунь для волос',): 833, ('продукты; мандарины; фрукты; овощи/фрукты/ягоды',): 516, ('упаковка; прочее; пакеты',): 408, ('кондитерка',): 325, ('хозяйственные товары; кондиционер для белья; уход за бельем',): 325, ('красота и здоровье; уход за полостью рта; зубная паста',): 614, ('кондиционер для белья; уход за бельем; хозяйственные товары',): 528, ('салфетки; бумага/салфетки; хозяйственные товары',): 488, ('личная гигиена; ежедневные; красота и здоровье; прокладки',): 342, ('дезодорант/антиперсперант; красота и здоровье; личная гигиена',): 531, ('фрукты; овощи/фрукты/ягоды; продукты; банан',): 360, ('красота и здоровье; бальзам для волос; гигиена волос',): 332, ('гигиена волос; шампунь для волос; красота и здоровье',): 910, ('хозяйственные товары; уход за бельем; кондиционер для белья',): 380, ('макароны; продукты; бакалея',): 349, ('табачные изделия; сигареты',): 319, ('продукты; хлеб и сладости; хлеб',): 338}\n",
            "{прокладки; личная гигиена; красота и здоровье} -> {упаковка; пакеты; прочее} (conf: 0.754, supp: 0.041, lift: 1.122, conv: 1.332)\n"
          ],
          "name": "stdout"
        }
      ]
    },
    {
      "cell_type": "markdown",
      "metadata": {
        "id": "3do3IMkjkEe8"
      },
      "source": [
        "# Задание 3. Найди товары P&G в чеках покупателей"
      ]
    },
    {
      "cell_type": "code",
      "metadata": {
        "id": "ys7JuepSkFfe",
        "colab": {
          "base_uri": "https://localhost:8080/",
          "height": 668
        },
        "outputId": "4146157d-41ff-40cc-805c-57063e9b3e32"
      },
      "source": [
        "df['Бренд'] = df['Бренд'].str.lower()\n",
        "df = df.dropna(thresh=2)\n",
        "\n",
        "# P&G brands: pampers, ariel, tide, миф, lenor, always, tampax, naturella, discreet, braun, gillette, venus, head&shoulders, pantene,\n",
        "# herbal essences, aussie, bear fruits, fairy, mr. proper (mr.proper), oral-b (oral b), blend-a-med, clearblue, old spice, safeguard\n",
        "\n",
        "def count_brand(dataset, brand_name, parser):\n",
        "    found_rows = df['Бренд'].str.contains(parser).sum()\n",
        "    print(brand_name + \":\", \"%0.0f\" % df['Бренд'].str.contains(parser).sum())\n",
        "    return found_rows\n",
        "\n",
        "pampers = count_brand(df, \"Pampers\", \"pampers\")\n",
        "ariel = count_brand(df, \"Ariel\", \"ariel\")\n",
        "tide = count_brand(df, \"Tide\", \"tide\")\n",
        "миф = count_brand(df, \"Миф\", \"миф\")\n",
        "lenor = count_brand(df, \"Lenor\", \"lenor\")\n",
        "always = count_brand(df, \"Always\", \"always\")\n",
        "tampax = count_brand(df, \"Tampax\", \"tampax\")\n",
        "naturella = count_brand(df, \"Naturella\", \"naturella\")\n",
        "discreet = count_brand(df, \"Discreet\", \"discreet\")\n",
        "braun = count_brand(df, \"Braun\", \"braun\")\n",
        "venus = count_brand(df, \"Venus\", \"venus\")\n",
        "head_shoulders = count_brand(df, \"Head&Shoulders\", \"head & shoulders|head&shoulders\")\n",
        "pantene = count_brand(df, \"Pantene\", \"pantene\")\n",
        "herbal_essences = count_brand(df, \"Herbal Essences\", \"herbal essences|herbal\")\n",
        "aussie = count_brand(df, \"Aussie\", \"aussie\")\n",
        "bear_fruits = count_brand(df, \"Bear Fruits\", \"bear fruits\")\n",
        "fairy = count_brand(df, \"Fairy\", \"fairy\")\n",
        "mr_proper = count_brand(df, \"Mr.Proper\", \"mr. proper|mr.proper\")\n",
        "oral_b = count_brand(df, \"Oral-B\", \"oral b|oral-b\")\n",
        "blend_a_med = count_brand(df, \"Blend-a-Med\", \"blend-a-med\")\n",
        "clearblue = count_brand(df, \"Clearblue\", \"clearblue\")\n",
        "gillette = count_brand(df, \"Gillette\", \"gillette\")\n",
        "old_spice = count_brand(df, \"Old Spice\", \"old spice\")\n",
        "safeguard = count_brand(df, \"Safeguard\", \"safeguard\")\n",
        "\n",
        "# График\n",
        "columns = [pampers, ariel, tide, миф, lenor, always, tampax, naturella,\n",
        "           discreet, braun, gillette, venus, head_shoulders, pantene, herbal_essences, aussie,\n",
        "           bear_fruits, fairy, mr_proper, oral_b, blend_a_med, clearblue, old_spice, safeguard]\n",
        "labels = ('pampers', 'ariel', 'tide', 'миф', 'lenor', 'always', 'tampax', 'naturella',\n",
        "          'discreet', 'braun', 'gillette', 'venus', 'head&shoulders', 'pantene', 'herbal essences', 'aussie',\n",
        "          'bear fruits', 'fairy', 'mr. proper', 'oral-b', 'blend-a-med', 'clearblue', 'old spice', 'safeguard')\n",
        "plt.barh(labels, columns)\n",
        "plt.show()"
      ],
      "execution_count": 12,
      "outputs": [
        {
          "output_type": "stream",
          "text": [
            "Pampers: 3505\n",
            "Ariel: 2523\n",
            "Tide: 1960\n",
            "Миф: 265\n",
            "Lenor: 5207\n",
            "Always: 189232\n",
            "Tampax: 228\n",
            "Naturella: 2985\n",
            "Discreet: 6244\n",
            "Braun: 3\n",
            "Venus: 1122\n",
            "Head&Shoulders: 3658\n",
            "Pantene: 3848\n",
            "Herbal Essences: 147\n",
            "Aussie: 356\n",
            "Bear Fruits: 0\n",
            "Fairy: 4266\n",
            "Mr.Proper: 1936\n",
            "Oral-B: 1106\n",
            "Blend-a-Med: 1764\n",
            "Clearblue: 64\n",
            "Gillette: 5718\n",
            "Old Spice: 2315\n",
            "Safeguard: 1014\n"
          ],
          "name": "stdout"
        },
        {
          "output_type": "display_data",
          "data": {
            "image/png": "[encoded data removed]",
            "text/plain": [
              "<Figure size 432x288 with 1 Axes>"
            ]
          },
          "metadata": {
            "tags": [],
            "needs_background": "light"
          }
        }
      ]
    },
    {
      "cell_type": "code",
      "metadata": {
        "id": "v3C73thw9Kph"
      },
      "source": [
        ""
      ],
      "execution_count": null,
      "outputs": []
    }
  ]
}